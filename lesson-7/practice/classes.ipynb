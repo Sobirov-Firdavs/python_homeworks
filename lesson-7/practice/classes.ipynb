{
 "cells": [
  {
   "cell_type": "markdown",
   "metadata": {},
   "source": [
    "## Classes"
   ]
  },
  {
   "cell_type": "code",
   "execution_count": 2,
   "metadata": {},
   "outputs": [
    {
     "data": {
      "text/plain": [
       "2.23606797749979"
      ]
     },
     "execution_count": 2,
     "metadata": {},
     "output_type": "execute_result"
    }
   ],
   "source": [
    "import math\n",
    "\n",
    "class Point:\n",
    "    def __init__(self, x: float, y: float):\n",
    "        self.x = x\n",
    "        self.y = y\n",
    "\n",
    "class Circle:\n",
    "    def __init__(self, center: Point, radius: float):\n",
    "        self.center = center\n",
    "        self.radius = radius\n",
    "        \n",
    "\n",
    "a = Point(2, 3)\n",
    "\n",
    "b = Point(3, 5)\n",
    "\n",
    "def distance(p1: Point, p2: Point):\n",
    "    return math.sqrt((p1.x - p2.x)**2 + (p1.y - p2.y)**2)\n",
    "\n",
    "distance(a, b)"
   ]
  },
  {
   "cell_type": "code",
   "execution_count": 4,
   "metadata": {},
   "outputs": [
    {
     "name": "stdout",
     "output_type": "stream",
     "text": [
      "Initial balance: 25000\n",
      "After deposit of 2000: 27000\n",
      "After withrawal of 3000: 24000\n"
     ]
    }
   ],
   "source": [
    "class Bankaccount:\n",
    "    def __init__(self, id, owner, balance = 0):\n",
    "        self.id = id\n",
    "        self.owner = owner\n",
    "        self.balance = balance\n",
    "    \n",
    "    def deposit(self, amount):\n",
    "        try:\n",
    "            self.balance += amount\n",
    "        except TypeError: print('You had to enter an integer. Try again.')\n",
    "    \n",
    "    def withdrawal(self, amount):\n",
    "        try:\n",
    "            if self.balance >= amount:\n",
    "                self.balance -= amount\n",
    "            else: print('No enough balance.')\n",
    "        except TypeError: print('You had to enter an integer. Try again.')\n",
    "    \n",
    "    def get_balance(self):\n",
    "        return self.balance\n",
    "\n",
    "alice_account = Bankaccount('123', 'Alice', 25000)\n",
    "print('Initial balance:', alice_account.get_balance())\n",
    "alice_account.deposit(2000)\n",
    "print('After deposit of 2000:', alice_account.get_balance())\n",
    "alice_account.withdrawal(3000)\n",
    "print('After withrawal of 3000:', alice_account.get_balance())"
   ]
  },
  {
   "cell_type": "code",
   "execution_count": null,
   "metadata": {},
   "outputs": [],
   "source": []
  }
 ],
 "metadata": {
  "kernelspec": {
   "display_name": "Python 3",
   "language": "python",
   "name": "python3"
  },
  "language_info": {
   "codemirror_mode": {
    "name": "ipython",
    "version": 3
   },
   "file_extension": ".py",
   "mimetype": "text/x-python",
   "name": "python",
   "nbconvert_exporter": "python",
   "pygments_lexer": "ipython3",
   "version": "3.12.8"
  }
 },
 "nbformat": 4,
 "nbformat_minor": 2
}
