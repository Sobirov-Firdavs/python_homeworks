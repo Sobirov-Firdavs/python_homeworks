{
 "cells": [
  {
   "cell_type": "markdown",
   "metadata": {},
   "source": [
    "## Generators\n",
    "\n",
    "- Creating generators\n",
    "- Generator Expressions"
   ]
  },
  {
   "cell_type": "code",
   "execution_count": 1,
   "metadata": {},
   "outputs": [
    {
     "name": "stdout",
     "output_type": "stream",
     "text": [
      "5\n",
      "4\n",
      "3\n",
      "2\n",
      "1\n"
     ]
    }
   ],
   "source": [
    "def countdown(n):\n",
    "    while n > 0:\n",
    "        yield n\n",
    "        n -= 1\n",
    "\n",
    "# Usage\n",
    "gen = countdown(5)\n",
    "for num in gen:\n",
    "    print(num)"
   ]
  },
  {
   "cell_type": "code",
   "execution_count": 2,
   "metadata": {},
   "outputs": [
    {
     "name": "stdout",
     "output_type": "stream",
     "text": [
      "1\n",
      "2\n",
      "3\n"
     ]
    }
   ],
   "source": [
    "def simple_generator():\n",
    "    yield 1\n",
    "    yield 2\n",
    "    yield 3\n",
    "\n",
    "it = simple_generator()\n",
    "for i in it:\n",
    "    print(i)"
   ]
  },
  {
   "cell_type": "code",
   "execution_count": 5,
   "metadata": {},
   "outputs": [
    {
     "name": "stdout",
     "output_type": "stream",
     "text": [
      "1\n",
      "1\n",
      "2\n",
      "3\n",
      "5\n",
      "8\n",
      "13\n",
      "21\n",
      "34\n",
      "55\n",
      "89\n"
     ]
    }
   ],
   "source": [
    "def fib(limit):\n",
    "    a, b = 0, 1\n",
    "    while b < limit:\n",
    "        yield b\n",
    "        a , b = b, a + b\n",
    "\n",
    "fib_numbers = fib(100)\n",
    "for number in fib_numbers:\n",
    "    print(number)"
   ]
  },
  {
   "cell_type": "code",
   "execution_count": 14,
   "metadata": {},
   "outputs": [
    {
     "name": "stdout",
     "output_type": "stream",
     "text": [
      "0\n",
      "1\n",
      "2\n",
      "3\n",
      "4\n",
      "5\n",
      "6\n",
      "7\n",
      "8\n",
      "9\n"
     ]
    }
   ],
   "source": [
    "def rrange(start, stop = None, step = 1):\n",
    "    if stop is None:\n",
    "        stop = start\n",
    "        start = 0\n",
    "\n",
    "    num = start\n",
    "    while num < stop:\n",
    "        yield num\n",
    "        num += step\n",
    "nums = rrange(10)\n",
    "for i in nums:\n",
    "    print(i)"
   ]
  },
  {
   "cell_type": "code",
   "execution_count": 19,
   "metadata": {},
   "outputs": [
    {
     "name": "stdout",
     "output_type": "stream",
     "text": [
      "0\n",
      "1\n",
      "4\n"
     ]
    }
   ],
   "source": [
    "gen_expr = (x**2 for x in range(5))\n",
    "print(next(gen_expr))\n",
    "print(next(gen_expr))\n",
    "print(next(gen_expr))\n"
   ]
  },
  {
   "cell_type": "markdown",
   "metadata": {},
   "source": [
    "### Decorators\n",
    "\n",
    "- Creating Decorators\n",
    "- Applying Decorates"
   ]
  },
  {
   "cell_type": "code",
   "execution_count": 21,
   "metadata": {},
   "outputs": [
    {
     "name": "stdout",
     "output_type": "stream",
     "text": [
      "Before fuction call\n",
      "Salom\n",
      "After function call\n"
     ]
    }
   ],
   "source": [
    "def print_salom():\n",
    "    print('Salom')\n",
    "\n",
    "def decorator(func):\n",
    "    print('Before fuction call')\n",
    "    func()\n",
    "    print('After function call')\n",
    "\n",
    "a = decorator(print_salom)\n",
    "a"
   ]
  },
  {
   "cell_type": "code",
   "execution_count": 22,
   "metadata": {},
   "outputs": [
    {
     "name": "stdout",
     "output_type": "stream",
     "text": [
      "Before fuction call\n",
      "Hello\n",
      "After function call\n"
     ]
    }
   ],
   "source": [
    "#We can have the same result as above with this:\n",
    "@decorator\n",
    "def say_hello():\n",
    "    print('Hello')\n",
    "\n",
    "say_hello"
   ]
  },
  {
   "cell_type": "code",
   "execution_count": 25,
   "metadata": {},
   "outputs": [
    {
     "data": {
      "text/plain": [
       "'<b>Salom</b>'"
      ]
     },
     "execution_count": 25,
     "metadata": {},
     "output_type": "execute_result"
    }
   ],
   "source": [
    "def bold(func):\n",
    "    def wrapper():\n",
    "        return f'<b>{func()}</b>'\n",
    "    return wrapper\n",
    "\n",
    "@bold\n",
    "def salom():\n",
    "    return 'Salom'\n",
    "salom()"
   ]
  },
  {
   "cell_type": "code",
   "execution_count": 37,
   "metadata": {},
   "outputs": [
    {
     "name": "stdout",
     "output_type": "stream",
     "text": [
      "Hello, World\n",
      "Hello, World\n",
      "Hello, World\n"
     ]
    }
   ],
   "source": [
    "def repeat_3(func):\n",
    "    for _ in range(3):\n",
    "        func('World')\n",
    "    return func\n",
    "\n",
    "@repeat_3\n",
    "def greet(name):\n",
    "    print('Hello,', name)"
   ]
  },
  {
   "cell_type": "code",
   "execution_count": 38,
   "metadata": {},
   "outputs": [
    {
     "name": "stdout",
     "output_type": "stream",
     "text": [
      "Hello, Hello\n"
     ]
    }
   ],
   "source": [
    "greet('Hello')"
   ]
  },
  {
   "cell_type": "code",
   "execution_count": 46,
   "metadata": {},
   "outputs": [
    {
     "name": "stdout",
     "output_type": "stream",
     "text": [
      "Hello World\n",
      "Hello World\n",
      "Hello World\n"
     ]
    }
   ],
   "source": [
    "def repeat(func):\n",
    "    def wrapper(n):\n",
    "        for _ in range(n):\n",
    "            func('World')\n",
    "    return wrapper\n",
    "\n",
    "@repeat\n",
    "def ngreet(name):\n",
    "    print('Hello', name)\n",
    "ngreet(3)"
   ]
  },
  {
   "cell_type": "code",
   "execution_count": 52,
   "metadata": {},
   "outputs": [
    {
     "name": "stdout",
     "output_type": "stream",
     "text": [
      "Hello, Navoiy!\n",
      "Hello, Navoiy!\n",
      "Hello, Navoiy!\n",
      "Hello, Navoiy!\n",
      "Hello, Navoiy!\n"
     ]
    }
   ],
   "source": [
    "def r(n):\n",
    "    def d(func):\n",
    "        def wrapper(name):\n",
    "            for _ in range(n):\n",
    "                func(name)\n",
    "        return wrapper\n",
    "    return d\n",
    "\n",
    "@r(5)\n",
    "def new_function(name):\n",
    "    print(f'Hello, {name}!')\n",
    "\n",
    "new_function('Navoiy')"
   ]
  },
  {
   "cell_type": "code",
   "execution_count": null,
   "metadata": {},
   "outputs": [],
   "source": []
  }
 ],
 "metadata": {
  "kernelspec": {
   "display_name": "Python 3",
   "language": "python",
   "name": "python3"
  },
  "language_info": {
   "codemirror_mode": {
    "name": "ipython",
    "version": 3
   },
   "file_extension": ".py",
   "mimetype": "text/x-python",
   "name": "python",
   "nbconvert_exporter": "python",
   "pygments_lexer": "ipython3",
   "version": "3.12.8"
  }
 },
 "nbformat": 4,
 "nbformat_minor": 2
}
