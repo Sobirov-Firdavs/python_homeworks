{
 "cells": [
  {
   "cell_type": "markdown",
   "metadata": {},
   "source": [
    "## Working with files"
   ]
  },
  {
   "cell_type": "code",
   "execution_count": 8,
   "metadata": {},
   "outputs": [
    {
     "data": {
      "text/plain": [
       "['employees = [\\n',\n",
       " \"    ['ID', 'Name', 'Position', 'Salary'],\\n\",\n",
       " \"    [101, 'Firdavs Sobirov', 'Teacher', '1000'],\\n\",\n",
       " \"    [102, 'Rustam Ahmedov', 'Engineer', '3000'],\\n\",\n",
       " \"    [103, 'Adham Elyorov', 'Sportsman', '500'],\\n\",\n",
       " \"    [104, 'Ravshan Ilhomov', 'Businessman', '2000'],\\n\",\n",
       " \"    [105, 'John Martin', 'Policeman', '2000'],\\n\",\n",
       " ']']"
      ]
     },
     "execution_count": 8,
     "metadata": {},
     "output_type": "execute_result"
    }
   ],
   "source": [
    "file_path = r'D:\\Python\\python_homeworks\\lesson-6\\employees.txt'\n",
    "\n",
    "with open(file_path, 'r') as file:\n",
    "    lines = file.readlines()\n",
    "\n",
    "lines"
   ]
  },
  {
   "cell_type": "code",
   "execution_count": 7,
   "metadata": {},
   "outputs": [
    {
     "name": "stdout",
     "output_type": "stream",
     "text": [
      "Skipping invalid line: 'ID', 'Name', 'Position', 'Salary'\n"
     ]
    },
    {
     "data": {
      "text/plain": [
       "[[101, 'Firdavs Sobirov', 'Teacher', 1000],\n",
       " [102, 'Rustam Ahmedov', 'Engineer', 3000],\n",
       " [103, 'Adham Elyorov', 'Sportsman', 500],\n",
       " [104, 'Ravshan Ilhomov', 'Businessman', 2000],\n",
       " [105, 'John Martin', 'Policeman', 2000]]"
      ]
     },
     "execution_count": 7,
     "metadata": {},
     "output_type": "execute_result"
    }
   ],
   "source": [
    "file_path = r'D:\\Python\\python_homeworks\\lesson-6\\employees.txt'\n",
    "\n",
    "with open(file_path, 'r') as file:\n",
    "    lines = file.readlines()\n",
    "\n",
    "employees = []\n",
    "\n",
    "for line in lines:\n",
    "                if line.strip().startswith('[') and line.strip() != \"[['ID', 'Name', 'Position', 'Salary']\":\n",
    "                    line = line.strip('[],\\n ')\n",
    "                    parts = line.split(',')\n",
    "                    try:\n",
    "                        emp_id = int(parts[0])\n",
    "                        name = parts[1].strip().strip(\"'\")\n",
    "                        position = parts[2].strip().strip(\"'\")\n",
    "                        salary = int(parts[3].strip().strip(\"'\"))\n",
    "                        employees.append([emp_id, name, position, salary])\n",
    "                    except (ValueError, IndexError):\n",
    "                        print(f\"Skipping invalid line: {line}\")\n",
    "employees"
   ]
  },
  {
   "cell_type": "code",
   "execution_count": null,
   "metadata": {},
   "outputs": [],
   "source": []
  }
 ],
 "metadata": {
  "kernelspec": {
   "display_name": "Python 3",
   "language": "python",
   "name": "python3"
  },
  "language_info": {
   "codemirror_mode": {
    "name": "ipython",
    "version": 3
   },
   "file_extension": ".py",
   "mimetype": "text/x-python",
   "name": "python",
   "nbconvert_exporter": "python",
   "pygments_lexer": "ipython3",
   "version": "3.12.8"
  }
 },
 "nbformat": 4,
 "nbformat_minor": 2
}
