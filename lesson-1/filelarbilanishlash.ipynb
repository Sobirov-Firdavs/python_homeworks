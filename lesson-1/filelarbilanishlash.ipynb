{
 "cells": [
  {
   "cell_type": "markdown",
   "metadata": {},
   "source": [
    "## Working with files"
   ]
  },
  {
   "cell_type": "markdown",
   "metadata": {},
   "source": [
    "- Open files\n",
    "- Read files\n",
    "- Write files\n",
    "- Append files\n",
    "\n",
    "### The open() Function\n",
    "\n",
    "| Character | Meaning |\n",
    "|-----------|---------|\n",
    "|'r'|open file for reading (default)|\n",
    "|'w'|open file for writing. If file exists, replaces its contests.|\n",
    "|'a'|open for writing. If file exists, appends to end.|\n",
    "|'b'|binary module|\n",
    "|'t'|text module (default)|\n",
    "|'+'|reading and writing|"
   ]
  },
  {
   "cell_type": "code",
   "execution_count": 12,
   "metadata": {},
   "outputs": [
    {
     "data": {
      "text/plain": [
       "\"Spiders do not follow a specific cardinal direction (like east or west)\\nwhen spinning their webs. Instead, they choose a location based on factors such as\\navailable space, structural support, prey availability, and environmental conditions like wind.\\nThe webвЂ™s orientation depends on these factors rather than any inherent directional preference.\\n\\nThe Moon acts as a mirror, reflecting sunlight towards Earth. Though it doesn't produce\\nits own light, the Moon shines because its surface reflects sunlight. This reflection\\ncauses the phases of the Moon, which change as it orbits Earth. Other celestial bodies,\\nlike planets, also reflect sunlight to varying degrees.\\n\\nTrees typically have more leaves on the southern side (in the Northern Hemisphere)\\nbecause that side receives more sunlight. This increased exposure to sunlight\\nallows for more photosynthesis, leading to denser foliage. In the Southern Hemisphere,\\nthe opposite occurs, with the northern side of trees having more leaves. However, factors like local\\nenvironmental conditions and tree species can also influence leaf distribution.\""
      ]
     },
     "execution_count": 12,
     "metadata": {},
     "output_type": "execute_result"
    }
   ],
   "source": [
    "file = open('example.txt')\n",
    "file.read()"
   ]
  },
  {
   "cell_type": "code",
   "execution_count": 3,
   "metadata": {},
   "outputs": [
    {
     "name": "stdout",
     "output_type": "stream",
     "text": [
      "Skipping invalid line: 'ID', 'Name', 'Position', 'Salary'\n"
     ]
    },
    {
     "data": {
      "text/plain": [
       "[[101, 'Firdavs Sobirov', 'Teacher', 1000],\n",
       " [102, 'Rustam Ahmedov', 'Engineer', 3000],\n",
       " [103, 'Adham Elyorov', 'Sportsman', 500],\n",
       " [104, 'Ravshan Ilhomov', 'Businessman', 2000]]"
      ]
     },
     "execution_count": 3,
     "metadata": {},
     "output_type": "execute_result"
    }
   ],
   "source": [
    "file_path = r'D:\\Python\\python_homeworks\\lesson-1\\example.txt'\n",
    "\n",
    "def load_employees():\n",
    "    employees = []\n",
    "    try:\n",
    "        with open(file_path, 'r') as file:\n",
    "            lines = file.readlines()\n",
    "            for line in lines:\n",
    "                # Ignore the header line and process valid entries\n",
    "                if line.strip().startswith('[') and line.strip() != \"[['ID', 'Name', 'Position', 'Salary']\":\n",
    "                    line = line.strip('[],\\n ')  # Clean brackets, commas, and spaces\n",
    "                    parts = line.split(',')\n",
    "                    try:\n",
    "                        # Extract and convert data\n",
    "                        emp_id = int(parts[0])\n",
    "                        name = parts[1].strip().strip(\"'\")\n",
    "                        position = parts[2].strip().strip(\"'\")\n",
    "                        salary = int(parts[3].strip().strip(\"'\"))\n",
    "                        employees.append([emp_id, name, position, salary])\n",
    "                    except (ValueError, IndexError):\n",
    "                        print(f\"Skipping invalid line: {line}\")\n",
    "    except FileNotFoundError:\n",
    "        print(\"File not found. Starting with an empty list of employees.\")\n",
    "    return employees\n",
    "\n",
    "employees = load_employees()\n",
    "employees"
   ]
  },
  {
   "cell_type": "code",
   "execution_count": null,
   "metadata": {},
   "outputs": [],
   "source": []
  }
 ],
 "metadata": {
  "kernelspec": {
   "display_name": "Python 3",
   "language": "python",
   "name": "python3"
  },
  "language_info": {
   "codemirror_mode": {
    "name": "ipython",
    "version": 3
   },
   "file_extension": ".py",
   "mimetype": "text/x-python",
   "name": "python",
   "nbconvert_exporter": "python",
   "pygments_lexer": "ipython3",
   "version": "3.12.8"
  }
 },
 "nbformat": 4,
 "nbformat_minor": 2
}
